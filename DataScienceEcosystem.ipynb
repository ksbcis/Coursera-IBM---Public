{
 "cells": [
  {
   "cell_type": "markdown",
   "id": "0dd031a7",
   "metadata": {},
   "source": [
    "# Data Science Tools and Ecosystem"
   ]
  },
  {
   "cell_type": "markdown",
   "id": "9e003b75",
   "metadata": {},
   "source": [
    "In this notebook, Data Science Tools and Ecosystem are summarized."
   ]
  },
  {
   "cell_type": "markdown",
   "id": "589934a0",
   "metadata": {},
   "source": [
    "**Objectives:**\n",
    "\n",
    "- Popular languages for Data Science are R, Python, and SQL\n",
    "- There open-source and free software available to Data Scientist\n",
    "- GitHub provides versioning control for Data Scientists\n",
    "- There are a number of packages that can be used such Numpy, Pandas and Seaborn\n",
    "- Functions such as arithmetic are used to provide specific outputs"
   ]
  },
  {
   "cell_type": "markdown",
   "id": "d8d83037",
   "metadata": {},
   "source": [
    "Some of the popular languages that Data Scientists use are:\n",
    "\n",
    "1. Python\n",
    "2. R\n",
    "3. Scala"
   ]
  },
  {
   "cell_type": "markdown",
   "id": "e45a031c",
   "metadata": {},
   "source": [
    "Some of the commonly used libraries used by Data Scientists include:\n",
    "\n",
    "* Numpy\n",
    "* Pandas\n",
    "* Seaborn"
   ]
  },
  {
   "cell_type": "markdown",
   "id": "3e5a92aa",
   "metadata": {},
   "source": [
    "Data Science Tools\n",
    "\n",
    "* Apache Spark\n",
    "* Jupyter Notebook\n",
    "* TensorFlow\n"
   ]
  },
  {
   "cell_type": "markdown",
   "id": "a7ecfd21",
   "metadata": {},
   "source": [
    "### Below are a few examples of evaluating arithmetic expressions in Python"
   ]
  },
  {
   "cell_type": "code",
   "execution_count": 1,
   "id": "aec984f6",
   "metadata": {},
   "outputs": [
    {
     "data": {
      "text/plain": [
       "17"
      ]
     },
     "execution_count": 1,
     "metadata": {},
     "output_type": "execute_result"
    }
   ],
   "source": [
    "# This a simple arithmetic expression to mutiply then add integers\n",
    "\n",
    "(3*4)+5"
   ]
  },
  {
   "cell_type": "code",
   "execution_count": 5,
   "id": "2f0d61c4",
   "metadata": {},
   "outputs": [
    {
     "data": {
      "text/plain": [
       "3.3333333333333335"
      ]
     },
     "execution_count": 5,
     "metadata": {},
     "output_type": "execute_result"
    }
   ],
   "source": [
    "# This will convert 200 minutes to hours by diving by 60\n",
    "\n",
    "200/60"
   ]
  },
  {
   "cell_type": "markdown",
   "id": "8cc9a455",
   "metadata": {},
   "source": [
    "## Author\n",
    "\n",
    "Keion Bobcombe"
   ]
  },
  {
   "cell_type": "code",
   "execution_count": null,
   "id": "c2e42fc5",
   "metadata": {},
   "outputs": [],
   "source": []
  }
 ],
 "metadata": {
  "kernelspec": {
   "display_name": "Python 3 (ipykernel)",
   "language": "python",
   "name": "python3"
  },
  "language_info": {
   "codemirror_mode": {
    "name": "ipython",
    "version": 3
   },
   "file_extension": ".py",
   "mimetype": "text/x-python",
   "name": "python",
   "nbconvert_exporter": "python",
   "pygments_lexer": "ipython3",
   "version": "3.9.12"
  }
 },
 "nbformat": 4,
 "nbformat_minor": 5
}
